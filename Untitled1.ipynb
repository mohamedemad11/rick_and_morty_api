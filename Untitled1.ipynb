{
  "nbformat": 4,
  "nbformat_minor": 0,
  "metadata": {
    "colab": {
      "provenance": []
    },
    "kernelspec": {
      "name": "python3",
      "display_name": "Python 3"
    },
    "language_info": {
      "name": "python"
    }
  },
  "cells": [
    {
      "cell_type": "code",
      "execution_count": null,
      "metadata": {
        "id": "MklO8iI64XWf"
      },
      "outputs": [],
      "source": [
        "import pandas  as pd\n",
        "import requests\n",
        "import json"
      ]
    },
    {
      "cell_type": "code",
      "source": [
        "url =\"https://rickandmortyapi.com/api/\""
      ],
      "metadata": {
        "id": "PdkYUhzy4eGF"
      },
      "execution_count": null,
      "outputs": []
    },
    {
      "cell_type": "code",
      "source": [
        "end_points = {'character':'episode', 'location':'residents', 'episode':'characters'}"
      ],
      "metadata": {
        "id": "JJusMyT9M6Hv"
      },
      "execution_count": 43,
      "outputs": []
    },
    {
      "cell_type": "code",
      "source": [
        "for point , value   in end_points.items() :\n",
        "  r = requests.get(f'{url}{point}')\n",
        "  if r.status_code == 200 :\n",
        "    info = json.loads(r.text)\n",
        "    total_rows_in_each_page = info['info']['count']\n",
        "    total_pages = info['info']['pages']\n",
        "    print(f'{point} has {total_rows_in_each_page} rows count in each page and {total_pages} total pages')\n",
        "    dfs = []\n",
        "  for i in range(1, total_pages + 1 ):\n",
        "    response = requests.get(f\"{url}{point}?page={i}\")\n",
        "\n",
        "    response_dict= json.loads(response.text)\n",
        "\n",
        "    results=response_dict['results']\n",
        "\n",
        "    df= pd.json_normalize(results,max_level=1).explode(f'{value}')\n",
        "    dfs.append(df)\n",
        "\n",
        "  new_df=pd.concat(df for df in dfs)\n",
        "  new_df.to_csv(f'rick_and_morty_{point}_data.csv',index= False)\n",
        "\n",
        "\n",
        "\n",
        "\n"
      ],
      "metadata": {
        "colab": {
          "base_uri": "https://localhost:8080/"
        },
        "id": "IBCi175Z4eKV",
        "outputId": "d17001f7-3076-4897-f477-0dfa301c241b"
      },
      "execution_count": 45,
      "outputs": [
        {
          "output_type": "stream",
          "name": "stdout",
          "text": [
            "character has 826 rows count in each page and 42 total pages\n",
            "location has 126 rows count in each page and 7 total pages\n",
            "episode has 51 rows count in each page and 3 total pages\n"
          ]
        }
      ]
    },
    {
      "cell_type": "code",
      "source": [],
      "metadata": {
        "id": "UhdurLYvKScb"
      },
      "execution_count": null,
      "outputs": []
    }
  ]
}